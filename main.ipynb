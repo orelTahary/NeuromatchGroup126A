{
 "metadata": {
  "language_info": {
   "codemirror_mode": {
    "name": "ipython",
    "version": 3
   },
   "file_extension": ".py",
   "mimetype": "text/x-python",
   "name": "python",
   "nbconvert_exporter": "python",
   "pygments_lexer": "ipython3",
   "version": 3
  },
  "orig_nbformat": 2,
  "kernelspec": {
   "name": "python_defaultSpec_1596044502471",
   "display_name": "Python 3.7.4 64-bit"
  }
 },
 "nbformat": 4,
 "nbformat_minor": 2,
 "cells": [
  {
   "cell_type": "code",
   "execution_count": 1,
   "metadata": {},
   "outputs": [],
   "source": [
    "import numpy as np\n",
    "import utils as u\n",
    "import plot_utils as pu\n",
    "from matplotlib import rcParams \n",
    "from matplotlib import pyplot as plt\n",
    "import statsmodels.api as sm #for GLM\n",
    "from sklearn.linear_model import LogisticRegression, LogisticRegressionCV\n",
    "from sklearn.model_selection import cross_validate, KFold, cross_val_predict, cross_val_score \n",
    "from sklearn.metrics import classification_report, confusion_matrix, accuracy_score, SCORERS, make_scorer\n",
    "from sklearn.decomposition import PCA "
   ]
  },
  {
   "cell_type": "code",
   "execution_count": 2,
   "metadata": {},
   "outputs": [],
   "source": [
    "alldat = u.load_data()\n",
    "num_sessions = len(alldat)"
   ]
  },
  {
   "cell_type": "code",
   "execution_count": 18,
   "metadata": {
    "tags": []
   },
   "outputs": [
    {
     "output_type": "error",
     "ename": "TabError",
     "evalue": "inconsistent use of tabs and spaces in indentation (<ipython-input-18-540a3f729b34>, line 6)",
     "traceback": [
      "\u001b[1;36m  File \u001b[1;32m\"<ipython-input-18-540a3f729b34>\"\u001b[1;36m, line \u001b[1;32m6\u001b[0m\n\u001b[1;33m    print(f'in session {i_session} training model on area {area}')\u001b[0m\n\u001b[1;37m                                                                  ^\u001b[0m\n\u001b[1;31mTabError\u001b[0m\u001b[1;31m:\u001b[0m inconsistent use of tabs and spaces in indentation\n"
     ]
    }
   ],
   "source": [
    "accuracies = {}\n",
    "for i_session in range(num_sessions):\n",
    "\t# dat['brain_region'] = u.brain_areas(dat)\n",
    "    areas = np.unique(alldat[i_session]['brain_area'])[:-1]\n",
    "    for area in areas:\n",
    "        print(f'in session {i_session} training model on area {area}')\n",
    "        accuracies[f'session {i_session} {area} D'] = u.chosen_direction(alldat, i_session, 1 , areas,'P','D')\n",
    "        accuracies[f'session {i_session} {area} M'] = u.chosen_direction(alldat, i_session, 1 , areas,'P','M')"
   ]
  },
  {
   "cell_type": "code",
   "execution_count": 13,
   "metadata": {},
   "outputs": [
    {
     "output_type": "error",
     "ename": "SyntaxError",
     "evalue": "invalid syntax (<ipython-input-13-ecd8d2c01b03>, line 1)",
     "traceback": [
      "\u001b[1;36m  File \u001b[1;32m\"<ipython-input-13-ecd8d2c01b03>\"\u001b[1;36m, line \u001b[1;32m1\u001b[0m\n\u001b[1;33m    list(accuracies.keys())['M' in key for key in accuracies.keys()]\u001b[0m\n\u001b[1;37m                                         ^\u001b[0m\n\u001b[1;31mSyntaxError\u001b[0m\u001b[1;31m:\u001b[0m invalid syntax\n"
     ]
    }
   ],
   "source": [
    "list(accuracies.keys())\n",
    "['M' in key for key in accuracies.keys()]"
   ]
  },
  {
   "cell_type": "code",
   "execution_count": null,
   "metadata": {},
   "outputs": [],
   "source": []
  }
 ]
}